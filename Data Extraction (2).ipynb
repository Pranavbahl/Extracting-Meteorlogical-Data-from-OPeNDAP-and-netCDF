{
 "cells": [
  {
   "cell_type": "code",
   "execution_count": null,
   "metadata": {},
   "outputs": [],
   "source": [
    "from mpl_toolkits.basemap import Basemap, cm\n",
    "from netCDF4 import Dataset, date2index\n",
    "import matplotlib.pyplot as plt\n",
    "from datetime import datetime\n",
    "from scipy import stats\n",
    "import pandas as pd\n",
    "import numpy as np\n",
    "from pylab import *"
   ]
  },
  {
   "cell_type": "markdown",
   "metadata": {},
   "source": [
    "# Reading netCDF File\n",
    "\n",
    "- Here we read a netCDF file using an OpenDAP link.\n",
    "- We find the nearest latitude and longitude available to the point of focus, by calculating and sorting the squared difference values from the point of consideration and then selecting the required initial values. \n",
    "- Here we print and calculate these values for the next step\n",
    "\n",
    "**Instructions:**\n",
    "- 1) Enter the OpenDAP link of the dataset in the following script.\n",
    "- 2) Fill in the latitude and longitude values of the point of consideration\n",
    "- 3) Enter the number of initial values needed from the sorted array\n",
    "      - for example : In a 1 deg resolution dataset for extracting data of 1 deg box, we need to find nearest 2 values for both latitude and longitude "
   ]
  },
  {
   "cell_type": "code",
   "execution_count": null,
   "metadata": {},
   "outputs": [],
   "source": [
    "# Reading in the netCDF file\n",
    "data = Dataset('http://apdrc.soest.hawaii.edu:80/dods/public_data/NOAA_SST/OISST_AVHRR/daily_v2.0')\n",
    "\n",
    "# Storing the lat and lon data into the variables \n",
    "lat = data.variables['lat'][:]\n",
    "lon = data.variables['lon'][:]\n",
    "\n",
    "# Storing the lat and lon of BOB\n",
    "lat_katmandu = 14.094\n",
    "lon_katmandu = 88.268\n",
    "\n",
    "# Squared difference of lat and lon \n",
    "sq_diff_lon = []\n",
    "sq_diff_lon.append((lon - lon_katmandu)**2)\n",
    "sq_diff_lat = []\n",
    "sq_diff_lat.append((lat - lat_katmandu)**2)\n",
    "\n",
    "\n",
    "# Identifying the index of the minimum value for lat and lon \n",
    "min_index_lon = sorted((sq_diff_lon)[0])[0:5]\n",
    "min_index_lat = sorted((sq_diff_lat)[0])[0:5]\n",
    "z = [] # for Longitude\n",
    "x = [] # for latitude\n",
    "\n",
    "for i in range(len(min_index_lon)):\n",
    "    z.append(min_index_lon[i])\n",
    "\n",
    "for i in range(len(min_index_lat)):\n",
    "    x.append(min_index_lat[i])\n",
    "\n",
    "print(z,x)"
   ]
  },
  {
   "cell_type": "markdown",
   "metadata": {},
   "source": [
    "# Calculating Index of the Identified Lat and Lon\n",
    "\n",
    "Here the indexes of the latitude and longitude nearest to the point of focus are calculated, which will be used further in next step to extrapolate the data.\n",
    "\n"
   ]
  },
  {
   "cell_type": "code",
   "execution_count": null,
   "metadata": {},
   "outputs": [],
   "source": [
    "# Identifying the index of the minimum value for lat and lon \n",
    "\n",
    "f=[]# for long.\n",
    "r=[]# for latt.\n",
    "\n",
    "for i,j in enumerate(sq_diff_lon):\n",
    "    for g in range(len(min_index_lon)):\n",
    "        for k,l in enumerate(j):\n",
    "     \n",
    "               if l==z[g]:\n",
    "                  f.append(k)\n",
    "\n",
    "for i,j in enumerate(sq_diff_lat):\n",
    "    for g in range(len(min_index_lat)):\n",
    "        for k,l in enumerate(j):\n",
    "     \n",
    "               if l==x[g]:\n",
    "                  r.append(k)\n",
    "#f = f[0:2]\n",
    "#r = r[0:2]\n",
    "print(f,r)"
   ]
  },
  {
   "cell_type": "markdown",
   "metadata": {},
   "source": [
    "# Calculating Monthly Average of the Data over the Region\n",
    "\n",
    "- 1) Here we calculate the average of the data over the points of focus.\n",
    "- 2) First we generate all the possible coordinates using the indexes we generated\n",
    "- 3) Then we extract the data pointwise in a list \n",
    "\n",
    "**Instructions:**\n",
    "\n",
    "For Part 1 : (When resolution is of 1 day)\n",
    "- 1) Extract the desired variable data needed.\n",
    "- 2) For break statement choose the total number of days\n",
    "\n",
    "For Part 2 : (When resolution is of 1 month)\n",
    "- 1) Extract the desired variable data needed.\n",
    "- 2) For break statement choose the total number of months\n"
   ]
  },
  {
   "cell_type": "markdown",
   "metadata": {},
   "source": [
    "# Part 1 (When Resolution is of 1 day)"
   ]
  },
  {
   "cell_type": "code",
   "execution_count": null,
   "metadata": {},
   "outputs": [],
   "source": [
    "sst = data.variables['sst']\n",
    "def avg():\n",
    "    \n",
    "    possible_coordinates=[]\n",
    "\n",
    "    for a in range(len(f)):\n",
    "        for b in range(len(r)):\n",
    "            k = [f[a],r[b]]\n",
    "            possible_coordinates.append(k)\n",
    "            \n",
    "    month  = [30,31,30,31,31,28,31,30,31,30,31,31,30,31,30,31,31,28,31,30,31,30,31,31,\n",
    "              30,31,30,31,31,29,31,30,31,30,31,31,30,31,30,31,31,28,31,30,31,30,31,31]\n",
    "    \n",
    "    point_month_wise = []\n",
    "    \n",
    "    for points in possible_coordinates:\n",
    "        lat = points[1];lon = points[0]\n",
    "        start = 0;average_month = []\n",
    "        \n",
    "        for count in range(1,13):\n",
    "            ind = count%48\n",
    "            days = month[ind-1]\n",
    "            sum_for_month = 0\n",
    "            for i in range(start,start+days+1):\n",
    "                val = sst[i,lat,lon]\n",
    "                sum_for_month += val\n",
    "            start += days\n",
    "            \n",
    "            if start > 14092:\n",
    "                break\n",
    "            \n",
    "            avg = sum_for_month/days\n",
    "            average_month.append(avg)\n",
    "        point_month_wise.append(average_month)\n",
    "    return point_month_wise\n",
    "\n",
    "m = avg()          "
   ]
  },
  {
   "cell_type": "markdown",
   "metadata": {},
   "source": [
    "# Part 2 (When Resolution is of 1 month)"
   ]
  },
  {
   "cell_type": "code",
   "execution_count": null,
   "metadata": {},
   "outputs": [],
   "source": [
    "def avg():\n",
    "    \n",
    "    possible_coordinates=[]\n",
    "\n",
    "    for a in range(len(f)):\n",
    "        for b in range(len(r)):\n",
    "            k = [f[a],r[b]]\n",
    "            possible_coordinates.append(k)\n",
    "            \n",
    "    point_month_wise = []\n",
    "    \n",
    "    for points in possible_coordinates:\n",
    "        lat = points[1];lon = points[0]\n",
    "        month = []\n",
    "\n",
    "        for count in range(498):\n",
    "            val = sst[count,0,lat,lon]\n",
    "            month.append(val)    \n",
    "                       \n",
    "        point_month_wise.append(month)\n",
    "    return point_month_wise\n",
    "m = avg()         "
   ]
  },
  {
   "cell_type": "markdown",
   "metadata": {},
   "source": [
    "# Average Over the Points\n",
    "\n",
    "Here we average the data for all the points "
   ]
  },
  {
   "cell_type": "code",
   "execution_count": null,
   "metadata": {},
   "outputs": [],
   "source": [
    "final_avg_for_all_months = []\n",
    "\n",
    "for i in range(len(m[0])):\n",
    "    summ = 0\n",
    "    for j in range(len(m)):\n",
    "        summ += m[j][i]\n",
    "    avg_for_all_pts_for_a_month = summ/(len(m))\n",
    "    final_avg_for_all_months.append(avg_for_all_pts_for_a_month)\n",
    "print(len(final_avg_for_all_months))\n",
    "\n",
    "print(final_avg_for_all_months)"
   ]
  },
  {
   "cell_type": "markdown",
   "metadata": {},
   "source": [
    "# Saving Data and Generating csv File\n",
    "\n",
    "- 1) Here we first generate a data frame for the total number periods available.\n",
    "- 2) Then we update it with data updated in an array created before that contains the averaged monthly data.\n",
    "\n",
    "**Instructions:**\n",
    "\n",
    "- 1) Set the starting date and periods according to the data set available\n",
    "- 2) Set the name of the csv file accordingly "
   ]
  },
  {
   "cell_type": "code",
   "execution_count": null,
   "metadata": {},
   "outputs": [],
   "source": [
    "date_range = pd.date_range(start='1979/01/01', periods=498, freq='M')\n",
    "\n",
    "df = pd.DataFrame(0, columns = ['sst'], index = date_range)\n",
    "\n",
    "dt = np.arange(0,498)\n",
    "\n",
    "for time_index in dt:\n",
    "    df.iloc[time_index] = final_avg_for_all_months[time_index]\n",
    "    \n",
    "df.to_csv('SST_Monthly.csv')"
   ]
  },
  {
   "cell_type": "markdown",
   "metadata": {},
   "source": [
    "# Sorting the Data\n",
    "\n",
    "Here we try to segregate the data needed accordingly and generate a new csv file for it.\n",
    "\n",
    "**Instructions:**\n",
    "\n",
    "- 1) Decide the month for which the data is needed. (for example: for February [12*i + 1]).\n",
    "- 2) Generate the data frame for the number of data points available.\n",
    "- 3) Set the name and save the csv file.\n",
    "\n"
   ]
  },
  {
   "cell_type": "code",
   "execution_count": null,
   "metadata": {},
   "outputs": [],
   "source": [
    "data = pd.read_csv('SST_Monthly.csv')\n",
    "\n",
    "lis = []\n",
    "\n",
    "for i in range(0,42):\n",
    "    lis.append(data.Temparature[12*i])\n",
    "\n",
    "dt = np.arange(1982,2021)\n",
    "df = pd.DataFrame(0, columns = ['Temparature'], index = dt)\n",
    "\n",
    "for t in range(len(lis)):\n",
    "    df.iloc[t] = lis[t]\n",
    "    \n",
    "df.to_csv('JanuarySST_Monthly.csv')"
   ]
  },
  {
   "cell_type": "markdown",
   "metadata": {},
   "source": [
    "# Plotting the Data \n",
    "\n",
    "Here we try to plot our data in the two possible ways i.e. a colour plot and a line chart \n",
    "\n",
    "- 1) Part 1 : (Colour Plot)\n",
    "     - Enter the OpenDAP link for dataset.\n",
    "     - Enter the period for which you need to visualize the data.\n",
    "     - Enter the latitude and longitude bounds for which the data is needed to be visualized.\n",
    "- 2) Part 2 : (Line Chart along with Linear Regression)\n",
    "     - Enter the csv file for whose data visualization is needed.\n",
    "     - Extract the data in the variables needed and plot according to the depended and indepedent variables."
   ]
  },
  {
   "cell_type": "markdown",
   "metadata": {},
   "source": [
    "# Part 1 (Colour Plot)"
   ]
  },
  {
   "cell_type": "code",
   "execution_count": null,
   "metadata": {},
   "outputs": [],
   "source": [
    "date = datetime(2003,1,1,0)\n",
    "# open dataset.\n",
    "dataset = Dataset('http://apdrc.soest.hawaii.edu:80/dods/public_data/satellite_product/MODIS_Aqua/4km_day')\n",
    "timevar = dataset.variables['time']\n",
    "timeindex = date2index(date,timevar)\n",
    "# read u current\n",
    "uc = dataset.variables['sst'][timeindex,:].squeeze()\n",
    "lats = dataset.variables['lat'][:]\n",
    "lons = dataset.variables['lon'][:]\n",
    "lons, lats = np.meshgrid(lons,lats)\n",
    "# create figure, axes instances.\n",
    "fig = plt.figure(figsize=(12,9))\n",
    "ax = fig.add_axes([0.05,0.05,0.9,0.9])\n",
    "# create Basemap instance.\n",
    "m = Basemap(projection='mill',llcrnrlat=5.734,urcrnrlat=24.3777,llcrnrlon=78.8982,urcrnrlon=95.0488, resolution=\"c\")\n",
    "m.drawcoastlines()\n",
    "clevs = [0,1,2.5,5,7.5,10,15,20,30,40,50,70,100,150,200,250,300,400,500,600,750]\n",
    "im1 = m.pcolormesh(lons,lats,uc,shading='flat',cmap=plt.cm.jet,latlon=True)\n",
    "cb = m.colorbar(im1,\"bottom\", size=\"5%\", pad=\"1%\")\n",
    "ax.set_title('SST for 2003-01-01')\n",
    "plt.show()"
   ]
  },
  {
   "cell_type": "markdown",
   "metadata": {},
   "source": [
    "# Part 2 (Line Chart along with Linear regression for Time Series data)"
   ]
  },
  {
   "cell_type": "code",
   "execution_count": null,
   "metadata": {},
   "outputs": [],
   "source": [
    "data = pd.read_csv('SST_Monthly.csv')\n",
    "z = np.mean(data.Temparature)\n",
    "k = data.Temparature-z\n",
    "\n",
    "slope, intercept, r_value, p_value, std_err = stats.linregress(data.Date, k)\n",
    "print(slope)\n",
    "\n",
    "def predict(x):\n",
    "    return slope * x + intercept\n",
    "\n",
    "fitLine = predict(data.Date)\n",
    "plt.figure(figsize=(25,10))\n",
    "ax = plt.axes()\n",
    "ax.xaxis.set_major_locator(plt.MaxNLocator(16))\n",
    "plt.xticks(rotation=45, fontsize='20')\n",
    "plt.yticks(fontsize='20')\n",
    "plt.title('SST Anomaly on May', fontsize='30')\n",
    "plt.xlabel(\"Time\", fontsize='25')\n",
    "plt.ylabel(\"Anomaly\", fontsize='25')\n",
    "plt.plot(data.Date, k)\n",
    "plt.figtext(.6, .8, \"Slope = 0.0163 \",fontsize = '25')\n",
    "plt.plot(data.Date, fitLine, c='r')\n",
    "plt.show()"
   ]
  },
  {
   "cell_type": "markdown",
   "metadata": {},
   "source": [
    "# Part 2 (Line Chart along with Linear regression for the Sorted data)"
   ]
  },
  {
   "cell_type": "code",
   "execution_count": null,
   "metadata": {},
   "outputs": [],
   "source": [
    "data = pd.read_csv('JanuarySST_Monthly.csv')\n",
    "z = np.mean(data.Temparature)\n",
    "k = data.Temparature-z\n",
    "\n",
    "slope, intercept, r_value, p_value, std_err = stats.linregress(data.Date, k)\n",
    "print(slope)\n",
    "\n",
    "def predict(x):\n",
    "    return slope * x + intercept\n",
    "\n",
    "fitLine = predict(data.Date)\n",
    "plt.figure(figsize=(25,10))\n",
    "ax = plt.axes()\n",
    "ax.xaxis.set_major_locator(plt.MaxNLocator(16))\n",
    "plt.xticks(rotation=45, fontsize='20')\n",
    "plt.yticks(fontsize='20')\n",
    "plt.title('SST Anomaly on May', fontsize='30')\n",
    "plt.xlabel(\"Time\", fontsize='25')\n",
    "plt.ylabel(\"Anomaly\", fontsize='25')\n",
    "plt.plot(data.Date, k)\n",
    "plt.figtext(.6, .8, \"Slope = 0.0163 \",fontsize = '25')\n",
    "plt.plot(data.Date, fitLine, c='r')\n",
    "plt.show()"
   ]
  }
 ],
 "metadata": {
  "kernelspec": {
   "display_name": "Python 3",
   "language": "python",
   "name": "python3"
  },
  "language_info": {
   "codemirror_mode": {
    "name": "ipython",
    "version": 3
   },
   "file_extension": ".py",
   "mimetype": "text/x-python",
   "name": "python",
   "nbconvert_exporter": "python",
   "pygments_lexer": "ipython3",
   "version": "3.7.4"
  }
 },
 "nbformat": 4,
 "nbformat_minor": 2
}
